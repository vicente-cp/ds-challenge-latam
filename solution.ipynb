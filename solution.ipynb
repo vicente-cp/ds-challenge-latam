{
 "cells": [
  {
   "cell_type": "markdown",
   "metadata": {},
   "source": [
    "# Data Scientist Challenge - LATAM Airlines"
   ]
  },
  {
   "cell_type": "markdown",
   "metadata": {},
   "source": [
    "This is a notebook with the purpose of developing the solution to the Data Scientist challenge given by LATAM Airlines. \n",
    "\n",
    "It will be subdivided into the following segments, explaining in detail each one of them in their respective sections:\n",
    "\n",
    "\n",
    "1.  Data Distribution - Exploratory Data Analysis\n",
    "    - 1.1 Data Loading\n",
    "    - 1.2 Data Distribution\n",
    "    - 1.3 Conclusions about the distributions\n",
    "2.  Feature Engineering\n",
    "    - 2.1 Generating new features\n",
    "    - 2.2 Exporting the features   \n",
    "3.  Flight Delay Analysis\n",
    "    - 3.1 Lateness rate and its relationship with other variables\n",
    "    - 3.2 Analysis of the best flight delay predictors\n",
    "4.  Model Training\n",
    "5.  Model Evaluation\n",
    "    - 5.1 Model Performance\n",
    "    - 5.2 Metric Analysis\n",
    "    - 5.3 Algorithm Analysis\n",
    "    - 5.4 Feature Importance\n",
    "    - 5.5 Further Improvements\n"
   ]
  },
  {
   "cell_type": "code",
   "execution_count": null,
   "metadata": {},
   "outputs": [],
   "source": []
  }
 ],
 "metadata": {
  "kernelspec": {
   "display_name": "Python 3.9.12 ('ds-challenge-latam')",
   "language": "python",
   "name": "python3"
  },
  "language_info": {
   "name": "python",
   "version": "3.9.12"
  },
  "orig_nbformat": 4,
  "vscode": {
   "interpreter": {
    "hash": "0a8edca694da83598bd89ca39271fee94b5e1b0d9cd3c903a0819b56d493a4d3"
   }
  }
 },
 "nbformat": 4,
 "nbformat_minor": 2
}
